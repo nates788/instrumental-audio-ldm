{
 "cells": [
  {
   "cell_type": "code",
   "execution_count": 3,
   "metadata": {},
   "outputs": [
    {
     "name": "stdout",
     "output_type": "stream",
     "text": [
      "torch.Size([128, 2, 3])\n"
     ]
    }
   ],
   "source": [
    "import torch\n",
    "import pipeline\n",
    "import model_loader\n",
    "import numpy as np\n",
    "from tqdm import tqdm\n",
    "from ddpm import DDPMSampler\n",
    "import torchaudio\n",
    "import torch.nn.functional as F\n",
    "from diffusion import Diffusion\n",
    "from encoder import VAE_Encoder\n",
    "from decoder import VAE_Decoder\n",
    "import pandas as pd\n",
    "from transformers import CLIPTokenizer\n",
    "\n",
    "\n",
    "from dataclasses import dataclass\n",
    "\n",
    "\n",
    "encoder = VAE_Encoder()\n",
    "print(encoder[0].weight.data.shape)\n",
    "#encoder[0].weight.data = torch.tensor[128, 2, 3]\n",
    "\n",
    "#new_weights = torch.tensor[128, 2, 3]\n",
    "\n"
   ]
  }
 ],
 "metadata": {
  "kernelspec": {
   "display_name": "stable-diffusion",
   "language": "python",
   "name": "python3"
  },
  "language_info": {
   "codemirror_mode": {
    "name": "ipython",
    "version": 3
   },
   "file_extension": ".py",
   "mimetype": "text/x-python",
   "name": "python",
   "nbconvert_exporter": "python",
   "pygments_lexer": "ipython3",
   "version": "3.11.2"
  },
  "orig_nbformat": 4
 },
 "nbformat": 4,
 "nbformat_minor": 2
}
