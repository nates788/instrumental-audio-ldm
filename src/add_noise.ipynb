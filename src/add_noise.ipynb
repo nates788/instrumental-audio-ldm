{
 "cells": [
  {
   "cell_type": "code",
   "execution_count": 1,
   "metadata": {},
   "outputs": [
    {
     "name": "stdout",
     "output_type": "stream",
     "text": [
      "torch.Size([2, 4629])\n",
      "Noisified Waveform Shape: torch.Size([8, 4629])\n"
     ]
    },
    {
     "data": {
      "text/html": [
       "\n",
       "                <audio  controls=\"controls\" >\n",
       "                    <source src=\"data:audio/wav;base64,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\" type=\"audio/wav\" />\n",
       "                    Your browser does not support the audio element.\n",
       "                </audio>\n",
       "              "
      ],
      "text/plain": [
       "<IPython.lib.display.Audio object>"
      ]
     },
     "execution_count": 1,
     "metadata": {},
     "output_type": "execute_result"
    }
   ],
   "source": [
    "from ddpm import DDPMSampler\n",
    "import torch\n",
    "import numpy as np\n",
    "import math\n",
    "import torchaudio\n",
    "from IPython.display import Audio\n",
    "\n",
    "\n",
    "generator = torch.Generator()\n",
    "generator.manual_seed(0)\n",
    "\n",
    "ddpm_sampler = DDPMSampler(generator)\n",
    "\n",
    "# How many noise levels to generate\n",
    "noise_levels = [0, 10, 50, 75, 100, 250, 500, 750]\n",
    "\n",
    "# Load the audio file (replace 'your_audio_file.wav' with the actual file path)\n",
    "waveform, sample_rate = torchaudio.load(\"../audio/rim.wav\")\n",
    "#waveform, sample_rate = librosa.load(\"../audio/rim.wav\", sr=None)\n",
    "\n",
    "\n",
    "\n",
    "# Normalize the waveform to the range [-1, 1]\n",
    "waveform = waveform / torch.max(torch.abs(waveform))\n",
    "\n",
    "# Create a batch by repeating the same waveform many times\n",
    "batch = waveform.repeat(len(noise_levels), 1)\n",
    "\n",
    "ts = torch.tensor(noise_levels, dtype=torch.int, device=batch.device)\n",
    "noise_waveforms = []\n",
    "epsilons = torch.randn(batch.shape, device=batch.device)\n",
    "\n",
    "# Generate a noisified version of the waveform for each noise level\n",
    "for i in range(len(ts)):\n",
    "    a_hat = ddpm_sampler.alphas_cumprod[ts[i]]\n",
    "    noise_waveforms.append(\n",
    "        (torch.sqrt(a_hat) * batch[i]) + (torch.sqrt(1 - a_hat) * epsilons[i])\n",
    "    )\n",
    "\n",
    "noise_waveforms = torch.stack(noise_waveforms, dim=0)\n",
    "noise_waveforms = torch.clamp(noise_waveforms, -1, 1)\n",
    "\n",
    "# You may want to save the noisified waveforms or further process them depending on your needs\n",
    "# For demonstration purposes, let's print the noisified waveform shape\n",
    "print(\"Noisified Waveform Shape:\", noise_waveforms.shape)\n",
    "Audio(noise_waveforms[7], rate=sample_rate)\n"
   ]
  }
 ],
 "metadata": {
  "kernelspec": {
   "display_name": "stable-diffusion",
   "language": "python",
   "name": "python3"
  },
  "language_info": {
   "codemirror_mode": {
    "name": "ipython",
    "version": 3
   },
   "file_extension": ".py",
   "mimetype": "text/x-python",
   "name": "python",
   "nbconvert_exporter": "python",
   "pygments_lexer": "ipython3",
   "version": "3.11.2"
  },
  "orig_nbformat": 4
 },
 "nbformat": 4,
 "nbformat_minor": 2
}
